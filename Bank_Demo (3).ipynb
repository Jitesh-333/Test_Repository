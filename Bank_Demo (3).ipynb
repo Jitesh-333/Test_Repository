{
  "nbformat": 4,
  "nbformat_minor": 0,
  "metadata": {
    "colab": {
      "provenance": []
    },
    "kernelspec": {
      "name": "python3",
      "display_name": "Python 3"
    },
    "language_info": {
      "name": "python"
    }
  },
  "cells": [
    {
      "cell_type": "code",
      "source": [
        "class BankAccount:\n",
        "    def __init__(self, account_number, account_holder):\n",
        "        self.__account_number = account_number\n",
        "        self.__account_holder = account_holder\n",
        "        self.__balance = 0.0\n",
        "\n",
        "    def get_balance(self):\n",
        "        return self.__balance\n",
        "\n",
        "    def deposit(self, amount):\n",
        "        if amount > 0:\n",
        "            self.__balance += amount\n",
        "            print(f\"Deposited: ${amount:.2f}\")\n",
        "        else:\n",
        "            print(\"Deposit amount must be positive.\")\n",
        "\n",
        "    def withdraw(self, amount):\n",
        "        if 0 < amount <= self.__balance:\n",
        "            self.__balance -= amount\n",
        "            print(f\"Withdrew: ${amount:.2f}\")\n",
        "        else:\n",
        "            print(\"Insufficient funds or invalid amount.\")\n",
        "\n",
        "    def display_account_info(self):\n",
        "        print(f\"Account Holder: {self.__account_holder}\")\n",
        "        print(f\"Account Number: {self.__account_number}\")\n",
        "        print(f\"Balance: ${self.__balance:.2f}\")\n",
        "\n",
        "\n",
        "# Example usage\n",
        "account = BankAccount(\"1234567890\", \"John Doe\")\n",
        "account.deposit(500)\n",
        "account.withdraw(150)\n",
        "account.display_account_info()\n"
      ],
      "metadata": {
        "colab": {
          "base_uri": "https://localhost:8080/"
        },
        "id": "_ujQcexA8Jdw",
        "outputId": "0abb3e66-5929-44b3-ab74-c3fb1f209a15"
      },
      "execution_count": 7,
      "outputs": [
        {
          "output_type": "stream",
          "name": "stdout",
          "text": [
            "Deposited: $500.00\n",
            "Withdrew: $150.00\n",
            "Account Holder: John Doe\n",
            "Account Number: 1234567890\n",
            "Balance: $350.00\n"
          ]
        }
      ]
    },
    {
      "cell_type": "code",
      "source": [],
      "metadata": {
        "id": "NQQKQWAI_xVd"
      },
      "execution_count": null,
      "outputs": []
    }
  ]
}