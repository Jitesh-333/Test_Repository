{
  "nbformat": 4,
  "nbformat_minor": 0,
  "metadata": {
    "colab": {
      "provenance": []
    },
    "kernelspec": {
      "name": "python3",
      "display_name": "Python 3"
    },
    "language_info": {
      "name": "python"
    }
  },
  "cells": [
    {
      "cell_type": "code",
      "source": [
        "print(\"This is demo version\")"
      ],
      "metadata": {
        "colab": {
          "base_uri": "https://localhost:8080/"
        },
        "id": "6XkICZ6EA2cC",
        "outputId": "1f013323-4698-4289-f288-763fb4f9decd"
      },
      "execution_count": 8,
      "outputs": [
        {
          "output_type": "stream",
          "name": "stdout",
          "text": [
            "This is demo version\n"
          ]
        }
      ]
    },
    {
      "cell_type": "code",
      "source": [
        "class Bank:\n",
        "\n",
        "    def __init__(self, account_num=1234567890, balance=0):\n",
        "        self.__account_holder = \"Jitesh Kumar Srivastava\"\n",
        "        self.__account_num = account_num\n",
        "        self.__balance = balance  # private attribute\n",
        "\n",
        "    def deposit(self, amount):\n",
        "        if amount > 0:\n",
        "            self.__balance += amount\n",
        "            print(f\"The amount credited is {amount} and the total balance is {self.__balance}\")\n",
        "        else:\n",
        "            print(\"Amount should be positive\")\n",
        "\n",
        "    def withdraw(self, amount):\n",
        "        if amount > self.__balance:\n",
        "            print(\"Insufficient balance\")\n",
        "        elif 0 < amount <= self.__balance:\n",
        "            self.__balance -= amount\n",
        "            print(f\"The debited amount is {amount} and the balance left is {self.__balance}\")\n",
        "        else:\n",
        "            print(\"Please enter a positive amount\")\n",
        "\n",
        "    def get_balance(self):\n",
        "        return self.__balance\n",
        "\n",
        "    def get_account_num(self):\n",
        "        return self.__account_num\n",
        "\n",
        "\n",
        "# Creating an instance of Bank\n",
        "a1 = Bank()\n",
        "\n",
        "# Taking the input from the user\n",
        "#print(f\"Account Holder: {a1.account_holder}\")\n",
        "print(f\"Account Number: {a1.get_account_num()}\")\n",
        "\n",
        "# Taking input for deposit\n",
        "deposit_amount = float(input(\"Enter amount to deposit: \"))\n",
        "a1.deposit(deposit_amount)\n",
        "\n",
        "# Checking the balance after deposit\n",
        "print(f\"Balance after deposit: {a1.get_balance()}\")\n",
        "\n",
        "# Taking input for withdrawal\n",
        "withdraw_amount = float(input(\"Enter amount to withdraw: \"))\n",
        "a1.withdraw(withdraw_amount)\n",
        "\n",
        "# Checking the balance after withdrawal\n",
        "print(f\"Balance after withdrawal: {a1.get_balance()}\")\n"
      ],
      "metadata": {
        "colab": {
          "base_uri": "https://localhost:8080/"
        },
        "id": "NQQKQWAI_xVd",
        "outputId": "1dc93727-0c7f-4a09-d1ad-1637ac6e6949"
      },
      "execution_count": 11,
      "outputs": [
        {
          "output_type": "stream",
          "name": "stdout",
          "text": [
            "Account Number: 1234567890\n",
            "Enter amount to deposit: 660\n",
            "The amount credited is 660.0 and the total balance is 660.0\n",
            "Balance after deposit: 660.0\n",
            "Enter amount to withdraw: 400\n",
            "The debited amount is 400.0 and the balance left is 260.0\n",
            "Balance after withdrawal: 260.0\n"
          ]
        }
      ]
    },
    {
      "cell_type": "code",
      "source": [],
      "metadata": {
        "id": "_-2_XLdXA7s7"
      },
      "execution_count": null,
      "outputs": []
    }
  ]
}