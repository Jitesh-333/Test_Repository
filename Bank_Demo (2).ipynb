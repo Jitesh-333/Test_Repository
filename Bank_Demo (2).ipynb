{
  "nbformat": 4,
  "nbformat_minor": 0,
  "metadata": {
    "colab": {
      "provenance": []
    },
    "kernelspec": {
      "name": "python3",
      "display_name": "Python 3"
    },
    "language_info": {
      "name": "python"
    }
  },
  "cells": [
    {
      "cell_type": "code",
      "execution_count": 6,
      "metadata": {
        "colab": {
          "base_uri": "https://localhost:8080/"
        },
        "id": "1hKUc3uD8Hif",
        "outputId": "54464ed0-a16a-4d44-83ac-c6fa08742042"
      },
      "outputs": [
        {
          "output_type": "stream",
          "name": "stdout",
          "text": [
            "0\n"
          ]
        }
      ],
      "source": [
        "class Bank:\n",
        "    def __init__(self):\n",
        "        self.__name = \"Jitesh\"\n",
        "        self.__balance = 0\n",
        "\n",
        "    # Getter method for name\n",
        "    def get_name(self):\n",
        "        return self.__name\n",
        "\n",
        "    # Setter method for name\n",
        "    def set_name(self):\n",
        "        self.__name = name\n",
        "\n",
        "    # Getter method for balance\n",
        "    def get_balance(self):\n",
        "        return self.__balance\n",
        "\n",
        "    # Private method to check if withdrawal is possible\n",
        "    def __can_withdraw(self, amount):\n",
        "        return self.__balance >= amount\n",
        "\n",
        "    # Method to deposit money\n",
        "    def deposit(self, amount):\n",
        "        if amount > 0:\n",
        "            self.__balance += amount\n",
        "            return True\n",
        "        return False\n",
        "\n",
        "    # Method to withdraw money\n",
        "    def withdraw(self, amount):\n",
        "        if self.__can_withdraw(amount):\n",
        "            self.__balance -= amount\n",
        "            return True\n",
        "        return False\n",
        "\n",
        "    # Method to display account details\n",
        "    def display_account(self):\n",
        "        return f\"Account Name: {self.__name}, Balance: {self.__balance}\"\n",
        "\n",
        "# Creating an object of Bank class\n",
        "account = Bank()\n",
        "print(account.get_balance())\n",
        "\n",
        "\n"
      ]
    },
    {
      "cell_type": "code",
      "source": [],
      "metadata": {
        "id": "_ujQcexA8Jdw"
      },
      "execution_count": null,
      "outputs": []
    }
  ]
}