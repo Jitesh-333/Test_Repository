{
  "nbformat": 4,
  "nbformat_minor": 0,
  "metadata": {
    "colab": {
      "provenance": []
    },
    "kernelspec": {
      "name": "python3",
      "display_name": "Python 3"
    },
    "language_info": {
      "name": "python"
    }
  },
  "cells": [
    {
      "cell_type": "code",
      "execution_count": 1,
      "metadata": {
        "colab": {
          "base_uri": "https://localhost:8080/"
        },
        "id": "1hKUc3uD8Hif",
        "outputId": "ff439c8e-f998-47e3-e09f-dd5f732673d4"
      },
      "outputs": [
        {
          "output_type": "stream",
          "name": "stdout",
          "text": [
            "Account Name: Alice, Balance: 1000\n",
            "Account Name: Alice, Balance: 1500\n",
            "Withdrawal successful.\n",
            "Account Name: Alice, Balance: 1200\n",
            "'Bank' object has no attribute '__balance'\n"
          ]
        }
      ],
      "source": [
        "class Bank:\n",
        "    def __init__(self, name, balance):\n",
        "        self.__name = name\n",
        "        self.__balance = balance\n",
        "\n",
        "    # Getter method for name\n",
        "    def get_name(self):\n",
        "        return self.__name\n",
        "\n",
        "    # Setter method for name\n",
        "    def set_name(self, name):\n",
        "        self.__name = name\n",
        "\n",
        "    # Getter method for balance\n",
        "    def get_balance(self):\n",
        "        return self.__balance\n",
        "\n",
        "    # Private method to check if withdrawal is possible\n",
        "    def __can_withdraw(self, amount):\n",
        "        return self.__balance >= amount\n",
        "\n",
        "    # Method to deposit money\n",
        "    def deposit(self, amount):\n",
        "        if amount > 0:\n",
        "            self.__balance += amount\n",
        "            return True\n",
        "        return False\n",
        "\n",
        "    # Method to withdraw money\n",
        "    def withdraw(self, amount):\n",
        "        if self.__can_withdraw(amount):\n",
        "            self.__balance -= amount\n",
        "            return True\n",
        "        return False\n",
        "\n",
        "    # Method to display account details\n",
        "    def display_account(self):\n",
        "        return f\"Account Name: {self.__name}, Balance: {self.__balance}\"\n",
        "\n",
        "# Creating an object of Bank class\n",
        "account = Bank(\"Alice\", 1000)\n",
        "\n",
        "# Accessing account details using public method\n",
        "print(account.display_account())\n",
        "\n",
        "# Depositing money\n",
        "account.deposit(500)\n",
        "print(account.display_account())\n",
        "\n",
        "# Withdrawing money\n",
        "if account.withdraw(300):\n",
        "    print(\"Withdrawal successful.\")\n",
        "else:\n",
        "    print(\"Insufficient balance.\")\n",
        "\n",
        "print(account.display_account())\n",
        "\n",
        "# Trying to access private attributes (will raise AttributeError)\n",
        "try:\n",
        "    print(account.__balance)\n",
        "except AttributeError as e:\n",
        "    print(e)\n"
      ]
    },
    {
      "cell_type": "code",
      "source": [],
      "metadata": {
        "id": "_ujQcexA8Jdw"
      },
      "execution_count": null,
      "outputs": []
    }
  ]
}